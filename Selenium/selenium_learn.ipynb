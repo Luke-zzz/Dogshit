{
 "cells": [
  {
   "cell_type": "code",
   "execution_count": null,
   "id": "7aeb97b3",
   "metadata": {},
   "outputs": [],
   "source": [
    "from selenium import webdriver\n",
    "from selenium.webdriver.chrome.options import Options\n",
    "from selenium.webdriver.chrome.service import Service\n",
    "from selenium.webdriver.common.keys import Keys\n",
    "from selenium.webdriver.common.by import By\n",
    "from selenium.webdriver.support.ui import WebDriverWait\n",
    "from selenium.webdriver.support import expected_conditions as EC\n",
    "import time\n",
    "\n",
    "opts = Options()\n",
    "opts.ignore_local_proxy_environment_variables()\n",
    "service=Service(r'C:\\Users\\Admin\\Desktop\\webdriver\\chromedriver\\chromedriver.exe')\n",
    "driver = webdriver.Chrome(options=opts,service=service)\n",
    "driver.get(\"https://www.google.com/\")\n",
    "\n",
    "WebDriverWait(driver,5).until(EC.presence_of_element_located((By.NAME, \"q\")))\n",
    "\n",
    "elem = driver.find_element(By.NAME, \"q\")\n",
    "elem.clear()\n",
    "elem.send_keys(\"pycon\")\n",
    "elem.send_keys(Keys.RETURN)\n",
    "\n",
    "WebDriverWait(driver,5).until(EC.presence_of_element_located((By.NAME, \"q\")))\n",
    "\n",
    "\n",
    "link=driver.find_element(By.PARTIAL_LINK_TEXT,\"PyCon US\")\n",
    "link.click()\n",
    "\n",
    "time.sleep(10)\n",
    "\n",
    "driver.close()"
   ]
  }
 ],
 "metadata": {
  "kernelspec": {
   "display_name": "Python 3 (ipykernel)",
   "language": "python",
   "name": "python3"
  }
 },
 "nbformat": 4,
 "nbformat_minor": 5
}
